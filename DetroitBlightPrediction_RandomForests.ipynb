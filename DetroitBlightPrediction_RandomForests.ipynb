{
 "cells": [
  {
   "cell_type": "markdown",
   "metadata": {},
   "source": [
    "#  Understanding and Predicting Property Maintenance Fines in Detroit:\n",
    "\n",
    "With the feature investigation done with, its time to try out some models, and evaluate them."
   ]
  },
  {
   "cell_type": "code",
   "execution_count": 1,
   "metadata": {},
   "outputs": [],
   "source": [
    "#Imports and Settings:\n",
    "import pandas as pd\n",
    "import numpy as np\n",
    "import matplotlib.pyplot as plt\n",
    "import altair as alt\n",
    "from datetime import datetime\n",
    "from datetime import timedelta\n",
    "from sklearn.model_selection import GridSearchCV\n",
    "from sklearn.ensemble import RandomForestClassifier\n",
    "from sklearn.metrics import accuracy_score\n",
    "from sklearn.metrics import roc_auc_score\n",
    "from sklearn.metrics import confusion_matrix\n",
    "\n",
    "#Settings\n",
    "from IPython.core.interactiveshell import InteractiveShell\n",
    "InteractiveShell.ast_node_interactivity = \"all\"\n",
    "alt.renderers.enable('notebook')\n",
    "alt.data_transformers.enable('default', max_rows=None)\n",
    "%matplotlib inline \n",
    "pd.set_option('display.max_rows', 100)\n",
    "pd.set_option('display.max_columns', 40)\n",
    "pd.set_option('display.width', 1000)"
   ]
  },
  {
   "cell_type": "markdown",
   "metadata": {},
   "source": [
    "### Support Functions:"
   ]
  },
  {
   "cell_type": "code",
   "execution_count": 2,
   "metadata": {},
   "outputs": [],
   "source": [
    "#Lets set up our input and target data\n",
    "#Lets add a difference column\n",
    "def getdiffindays(hdate, tdate):\n",
    "    return ((hdate - tdate).total_seconds())/86400\n",
    "\n",
    "def getfeatures():\n",
    "    from sklearn.model_selection import train_test_split\n",
    "    \n",
    "    xyTrain = pd.read_csv(\"./readonly/train.csv\",encoding = \"ISO-8859-1\")\n",
    "\n",
    "    #this came from our isnull() summing; some columns are basically all NA. Useless for us, and I have no data join to correct.\n",
    "    for col in [\"violation_zip_code\", \"non_us_str_code\", \"payment_date\", \"collection_status\", \"grafitti_status\"]:\n",
    "        xyTrain.drop(columns=[col], axis=1,inplace=True)\n",
    "\n",
    "    xyTrain.dropna(inplace=True)\n",
    "    xyTrain = xyTrain.reset_index(drop=True)\n",
    "\n",
    "    xyTrain[\"agency_name\"] = xyTrain[\"agency_name\"].astype(\"category\")\n",
    "    xyTrain[\"agency_codes\"] = xyTrain[\"agency_name\"].cat.codes\n",
    "    xyTrain[\"disposition\"] = xyTrain[\"disposition\"].astype(\"category\")\n",
    "    xyTrain[\"disposition_codes\"] = xyTrain[\"disposition\"].cat.codes\n",
    "    xyTrain[\"violation_code\"] = xyTrain[\"violation_code\"].astype(\"category\")\n",
    "    xyTrain[\"violation_code_levels\"] = xyTrain[\"violation_code\"].cat.codes\n",
    "\n",
    "    xyTrain[\"hearing_date\"] = pd.to_datetime(arg=xyTrain[\"hearing_date\"], format=\"%Y-%m-%d %H:%M:%S\")\n",
    "    xyTrain[\"ticket_issued_date\"] = pd.to_datetime(arg=xyTrain[\"ticket_issued_date\"], format=\"%Y-%m-%d %H:%M:%S\")\n",
    "\n",
    "    xyTrain.astype({\"compliance\":\"int\"},inplace=True) #doesn't need to be a float.\n",
    "\n",
    "\n",
    "    #Clever solution from: https://stackoverflow.com/questions/13331698/...\n",
    "    #...how-to-apply-a-function-to-two-columns-of-pandas-dataframe\n",
    "    xyTrain['time_diff'] = xyTrain[['hearing_date','ticket_issued_date']].apply(lambda x: getdiffindays(*x), axis=1)\n",
    "\n",
    "    #filter out negative times from our dataframe\n",
    "    xyTrain = xyTrain[xyTrain[\"time_diff\"] > 0]\n",
    "\n",
    "    #first, split off 10% of xyTrain to get some test data. Set a random seed.\n",
    "    (xy_Train, xy_Test) = train_test_split(xyTrain,test_size=0.1,random_state=0)\n",
    "    \n",
    "    \n",
    "    y_Train = xy_Train[\"compliance\"]\n",
    "    x_Train = xy_Train.drop(columns=[\"compliance\",\"compliance_detail\"],axis=1)\n",
    "    y_Test = xy_Test[\"compliance\"]\n",
    "    x_Test = xy_Test.drop(columns=[\"compliance\",\"compliance_detail\"],axis=1)\n",
    "    \n",
    "    return (x_Train,y_Train,x_Test,y_Test)"
   ]
  },
  {
   "cell_type": "markdown",
   "metadata": {},
   "source": [
    "## Model Submitted for the Assignment:\n",
    "\n",
    "The model below achieved an AUC score of 0.765, and cross-validation accuracy of > 0.93 The following was noted before building the model:\n",
    "\n",
    "1) There are no targets for our test set - we are simply to produce a prediction and then return it with the blight_model() function. The targets of the test set are to be withheld, and used by the auto_grader. \n",
    "\n",
    "2) The test set has a restricted set of features. This is done to reduce the risk of **Data Leakage**. \n",
    "\n",
    "3) Because our test set has no targets, we have to create a validation set with our training data - which is thankfully quite large (90MB in size). We might as well do Cross Validation, because we can.\n",
    "\n",
    "4) Our evaluation metric is area under curve. Since this involves a ROC curve graph, we will inevitalbly have to vary parameters.\n",
    "\n",
    "5) Considering (3) and (4), it makes sense to use GridSearchCV. for our question. It will do CV across a parameter space for us, automatically.\n",
    "\n",
    "6) Given what was taught in lecture, it makes sense to try first with **Random Forest** and **Gradient Boosted Decision Trees**. We can just throw in features (unnormalized), with gridSearch.\n",
    "\n",
    "### Default Features:\n",
    "\n",
    "Without doing any feature analysis, and only restricting ourselves to features the test.csv file has, I will use the folloiwng features, as they require minimal processing. \n",
    "\n",
    "- late_fee-(possible bad sign - they can't pay or don't want to).\n",
    "- discount_amount:(if allotted - might indicate negotiation or leeway)\n",
    "- judgment_amount:(outstanding sum of payments)\n"
   ]
  },
  {
   "cell_type": "code",
   "execution_count": 3,
   "metadata": {},
   "outputs": [
    {
     "name": "stderr",
     "output_type": "stream",
     "text": [
      "/home/sean/DSDEenv/lib/python3.6/site-packages/IPython/core/interactiveshell.py:3248: DtypeWarning: Columns (11,12,31) have mixed types. Specify dtype option on import or set low_memory=False.\n",
      "  if (await self.run_code(code, result,  async_=asy)):\n"
     ]
    }
   ],
   "source": [
    "#Call this so all the algorithms after this point have data.\n",
    "(x_Train,y_Train,x_Test,y_Test) = getfeatures()"
   ]
  },
  {
   "cell_type": "code",
   "execution_count": 17,
   "metadata": {},
   "outputs": [
    {
     "name": "stderr",
     "output_type": "stream",
     "text": [
      "/home/sean/DSDEenv/lib/python3.6/site-packages/IPython/core/interactiveshell.py:3325: DtypeWarning: Columns (11,12,31) have mixed types. Specify dtype option on import or set low_memory=False.\n",
      "  exec(code_obj, self.user_global_ns, self.user_ns)\n",
      "/home/sean/DSDEenv/lib/python3.6/site-packages/sklearn/model_selection/_split.py:1978: FutureWarning: The default value of cv will change from 3 to 5 in version 0.22. Specify it explicitly to silence this warning.\n",
      "  warnings.warn(CV_WARNING, FutureWarning)\n"
     ]
    },
    {
     "name": "stdout",
     "output_type": "stream",
     "text": [
      "Grid best parameter (max. acc):  {'max_depth': 3, 'n_estimators': 6, 'n_jobs': 8}\n",
      "Grid best score (accuracy):  0.9354297367340292\n",
      "Separate Test Set Accuracy:  0.9346800917665052\n"
     ]
    },
    {
     "name": "stderr",
     "output_type": "stream",
     "text": [
      "/home/sean/DSDEenv/lib/python3.6/site-packages/IPython/core/interactiveshell.py:3325: DtypeWarning: Columns (11,12,31) have mixed types. Specify dtype option on import or set low_memory=False.\n",
      "  exec(code_obj, self.user_global_ns, self.user_ns)\n",
      "/home/sean/DSDEenv/lib/python3.6/site-packages/sklearn/model_selection/_split.py:1978: FutureWarning: The default value of cv will change from 3 to 5 in version 0.22. Specify it explicitly to silence this warning.\n",
      "  warnings.warn(CV_WARNING, FutureWarning)\n"
     ]
    },
    {
     "name": "stdout",
     "output_type": "stream",
     "text": [
      "Grid best parameter (max. acc):  {'max_depth': 6, 'n_estimators': 23, 'n_jobs': 8}\n",
      "Grid best score (accuracy):  0.7548509940029904\n",
      "Separate Test Set AUC:  0.550489054269121\n"
     ]
    }
   ],
   "source": [
    "#Assumes getfeatures has been called, and placed test/train partition into global scope\n",
    "def bm_minimal_acc():\n",
    "    #sort out train x for predict\n",
    "    x_TrainSubset = x_Train.loc[:,[\"late_fee\",\"discount_amount\",\"judgment_amount\"]]\n",
    "    x_TestSubset = x_Test.loc[:,[\"late_fee\",\"discount_amount\",\"judgment_amount\"]]\n",
    "    \n",
    "    parameters = {\"n_estimators\":list(range(1,31)), \"max_depth\":list(range(1,11)),\"n_jobs\":[8]}         \n",
    "    blightRF = GridSearchCV(RandomForestClassifier(),param_grid=parameters,scoring=\"accuracy\")\n",
    "    blightRF.fit(x_TrainSubset, y_Train)\n",
    "\n",
    "    print('Grid best parameter (max. acc): ', blightRF.best_params_)\n",
    "    print('Grid best score (accuracy): ', blightRF.best_score_)    \n",
    "    \n",
    "    print(\"Separate Test Set Accuracy: \", accuracy_score(y_Test,blightRF.predict(x_TestSubset)))\n",
    "    return None\n",
    "    \n",
    "def bm_minimal_auc():\n",
    "    (x_Train,y_Train,x_Test,y_Test) = getfeatures()\n",
    "\n",
    "    #sort out train x for predict\n",
    "    x_TrainSubset = x_Train.loc[:,[\"late_fee\",\"discount_amount\",\"judgment_amount\"]]\n",
    "    x_TestSubset = x_Test.loc[:,[\"late_fee\",\"discount_amount\",\"judgment_amount\"]]\n",
    "\n",
    "    parameters = {\"n_estimators\":list(range(1,31)), \"max_depth\":list(range(1,11)),\"n_jobs\":[8]}         \n",
    "    blightRF = GridSearchCV(RandomForestClassifier(),param_grid=parameters,scoring=\"roc_auc\")\n",
    "    blightRF.fit(x_TrainSubset, y_Train)\n",
    "\n",
    "    print('Grid best parameter (max. acc): ', blightRF.best_params_)\n",
    "    print('Grid best score (accuracy): ', blightRF.best_score_)    \n",
    "\n",
    "    print(\"Separate Test Set AUC: \", roc_auc_score(y_Test,blightRF.predict(x_TestSubset)))\n",
    "    return None\n",
    "\n",
    "bm_minimal_acc()\n",
    "          \n",
    "bm_minimal_auc()\n",
    "\n"
   ]
  },
  {
   "cell_type": "markdown",
   "metadata": {},
   "source": [
    "We can see that Accuracy is a lot higher than AUC, which is a measure of area under an ROC curve (y axis - TPR, x-axis FPR). What does our confusion matrix look like? Did AUC models overfit?\n"
   ]
  },
  {
   "cell_type": "code",
   "execution_count": 24,
   "metadata": {},
   "outputs": [
    {
     "name": "stdout",
     "output_type": "stream",
     "text": [
      "Model 1:\n",
      "Training Set Confusion Matrix: \n",
      " [[131052     52]\n",
      " [  9067   1055]]\n",
      "Test Set Confusion Matrix: \n",
      " [[14552     5]\n",
      " [ 1020   115]]\n",
      "Model 2:\n",
      "Training Set Confusion Matrix:\n",
      " [[131052     52]\n",
      " [  9067   1055]]\n",
      "Test Set Confusion Matrix:\n",
      " [[14552     5]\n",
      " [ 1020   115]]\n"
     ]
    }
   ],
   "source": [
    "x_TrainSubset = x_Train.loc[:,[\"late_fee\",\"discount_amount\",\"judgment_amount\"]]\n",
    "x_TestSubset = x_Test.loc[:,[\"late_fee\",\"discount_amount\",\"judgment_amount\"]]\n",
    "\n",
    "#parameters 1: max_depth 3, n_estimators, 6\n",
    "blightRF1 = RandomForestClassifier(max_depth=3,n_estimators=6).fit(x_TrainSubset, y_Train)\n",
    "b1cm_train = confusion_matrix(y_Train, blightRF1.predict(x_TrainSubset))\n",
    "b1cm_test = confusion_matrix(y_Test, blightRF1.predict(x_TestSubset))\n",
    "print(\"Model 1:\")\n",
    "print(\"Training Set Confusion Matrix: \\n\", b1cm_train)\n",
    "print(\"Test Set Confusion Matrix: \\n\", b1cm_test)\n",
    "                             \n",
    "                             \n",
    "#parameters 2: max_depth 6, n_estimators 23\n",
    "blightRF2 = RandomForestClassifier(max_depth=6,n_estimators=23).fit(x_TrainSubset, y_Train)\n",
    "b2cm_train = confusion_matrix(y_Train, blightRF2.predict(x_TrainSubset))\n",
    "b2cm_test = confusion_matrix(y_Test, blightRF2.predict(x_TestSubset))\n",
    "print(\"\\n Model 2:\")\n",
    "print(\"Training Set Confusion Matrix:\\n\", b2cm_train)\n",
    "print(\"Test Set Confusion Matrix:\\n\", b2cm_test)                             "
   ]
  },
  {
   "cell_type": "markdown",
   "metadata": {},
   "source": [
    "Strangely, **the matrix elements are the same for both models!** I am not repeating parameters or making a mistake!\n",
    "\n",
    "Practically, we want to predict who will not pay their tickets. Suppose we send officers/collection agents after people \n",
    "to increase compliance. Is it more preferable to have a high False Positive, or False Negative? For Revenue, the former,\n",
    "but for fairness to citizens, the latter. The latter has been optimized, it seems."
   ]
  },
  {
   "cell_type": "markdown",
   "metadata": {},
   "source": [
    "### Trying a RF with our new features:\n",
    "\n",
    "I just use all the features to see what happens. Code for models is similar to what is above.\n"
   ]
  },
  {
   "cell_type": "code",
   "execution_count": 31,
   "metadata": {},
   "outputs": [
    {
     "data": {
      "text/plain": [
       "ticket_id                     15692\n",
       "agency_name                   15692\n",
       "inspector_name                15692\n",
       "violator_name                 15692\n",
       "violation_street_number       15692\n",
       "violation_street_name         15692\n",
       "mailing_address_str_number    15692\n",
       "mailing_address_str_name      15692\n",
       "city                          15692\n",
       "state                         15692\n",
       "zip_code                      15692\n",
       "country                       15692\n",
       "ticket_issued_date            15692\n",
       "hearing_date                  15692\n",
       "violation_code                15692\n",
       "violation_description         15692\n",
       "disposition                   15692\n",
       "fine_amount                   15692\n",
       "admin_fee                     15692\n",
       "state_fee                     15692\n",
       "late_fee                      15692\n",
       "discount_amount               15692\n",
       "clean_up_cost                 15692\n",
       "judgment_amount               15692\n",
       "payment_amount                15692\n",
       "balance_due                   15692\n",
       "payment_status                15692\n",
       "agency_codes                  15692\n",
       "disposition_codes             15692\n",
       "violation_code_levels         15692\n",
       "time_diff                     15692\n",
       "dtype: int64"
      ]
     },
     "execution_count": 31,
     "metadata": {},
     "output_type": "execute_result"
    }
   ],
   "source": [
    "x_Test.isnull().count()"
   ]
  },
  {
   "cell_type": "code",
   "execution_count": 32,
   "metadata": {},
   "outputs": [
    {
     "name": "stderr",
     "output_type": "stream",
     "text": [
      "/home/sean/DSDEenv/lib/python3.6/site-packages/sklearn/model_selection/_split.py:1978: FutureWarning: The default value of cv will change from 3 to 5 in version 0.22. Specify it explicitly to silence this warning.\n",
      "  warnings.warn(CV_WARNING, FutureWarning)\n"
     ]
    },
    {
     "name": "stdout",
     "output_type": "stream",
     "text": [
      "Grid best parameter (max. acc):  {'max_depth': 10, 'n_estimators': 13, 'n_jobs': 8}\n",
      "Grid best score (accuracy):  0.9440825343775225\n",
      "Separate Test Set Accuracy:  0.9434106551108845\n"
     ]
    },
    {
     "name": "stderr",
     "output_type": "stream",
     "text": [
      "/home/sean/DSDEenv/lib/python3.6/site-packages/sklearn/model_selection/_split.py:1978: FutureWarning: The default value of cv will change from 3 to 5 in version 0.22. Specify it explicitly to silence this warning.\n",
      "  warnings.warn(CV_WARNING, FutureWarning)\n"
     ]
    },
    {
     "name": "stdout",
     "output_type": "stream",
     "text": [
      "Grid best parameter (max. acc):  {'max_depth': 10, 'n_estimators': 29, 'n_jobs': 8}\n",
      "Grid best score (accuracy):  0.8130270822907559\n",
      "Separate Test Set AUC:  0.6230269041129219\n"
     ]
    }
   ],
   "source": [
    "featureList = [\"late_fee\",\"discount_amount\",\"judgment_amount\",\"violation_code_levels\",\"disposition_codes\",\"agency_codes\",\"time_diff\"]\n",
    "\n",
    "def bm_full_acc():\n",
    "    #sort out train x for predict\n",
    "    x_TrainSubset = x_Train.loc[:,featureList]\n",
    "    x_TestSubset = x_Test.loc[:,featureList]\n",
    "    \n",
    "    parameters = {\"n_estimators\":list(range(1,31)), \"max_depth\":list(range(1,11)),\"n_jobs\":[8]}         \n",
    "    blightRF = GridSearchCV(RandomForestClassifier(),param_grid=parameters,scoring=\"accuracy\")\n",
    "    blightRF.fit(x_TrainSubset, y_Train)\n",
    "\n",
    "    print('Grid best parameter (max. acc): ', blightRF.best_params_)\n",
    "    print('Grid best score (accuracy): ', blightRF.best_score_)    \n",
    "    \n",
    "    print(\"Separate Test Set Accuracy: \", accuracy_score(y_Test,blightRF.predict(x_TestSubset)))\n",
    "    return None\n",
    "    \n",
    "def bm_full_auc():\n",
    "    #sort out train x for predict\n",
    "    x_TrainSubset = x_Train.loc[:,featureList]\n",
    "    x_TestSubset = x_Test.loc[:,featureList]\n",
    "\n",
    "    parameters = {\"n_estimators\":list(range(1,31)), \"max_depth\":list(range(1,11)),\"n_jobs\":[8]}         \n",
    "    blightRF = GridSearchCV(RandomForestClassifier(),param_grid=parameters,scoring=\"roc_auc\")\n",
    "    blightRF.fit(x_TrainSubset, y_Train)\n",
    "\n",
    "    print('Grid best parameter (max. acc): ', blightRF.best_params_)\n",
    "    print('Grid best score (accuracy): ', blightRF.best_score_)    \n",
    "\n",
    "    print(\"Separate Test Set AUC: \", roc_auc_score(y_Test,blightRF.predict(x_TestSubset)))\n",
    "    return None\n",
    "\n",
    "bm_full_acc()\n",
    "\n",
    "bm_full_auc()"
   ]
  },
  {
   "cell_type": "markdown",
   "metadata": {},
   "source": [
    "Our accuracy score increased by no more than 0.01. Our AUC score has increased significantly. Lets take a look: at our confusion matrices. "
   ]
  },
  {
   "cell_type": "code",
   "execution_count": 33,
   "metadata": {},
   "outputs": [
    {
     "name": "stdout",
     "output_type": "stream",
     "text": [
      "Model 1:\n",
      "Training Set Confusion Matrix: \n",
      " [[130881    223]\n",
      " [  7627   2495]]\n",
      "Test Set Confusion Matrix: \n",
      " [[14525    32]\n",
      " [  854   281]]\n",
      "\n",
      " Model 2:\n",
      "Training Set Confusion Matrix:\n",
      " [[130869    235]\n",
      " [  7587   2535]]\n",
      "Test Set Confusion Matrix:\n",
      " [[14524    33]\n",
      " [  854   281]]\n"
     ]
    }
   ],
   "source": [
    "x_TrainSubset = x_Train.loc[:,featureList]\n",
    "x_TestSubset = x_Test.loc[:,featureList]\n",
    "\n",
    "#parameters 1: max_depth 3, n_estimators, 6\n",
    "blightRF1 = RandomForestClassifier(max_depth=10,n_estimators=13).fit(x_TrainSubset, y_Train)\n",
    "b1cm_train = confusion_matrix(y_Train, blightRF1.predict(x_TrainSubset))\n",
    "b1cm_test = confusion_matrix(y_Test, blightRF1.predict(x_TestSubset))\n",
    "print(\"Model 1:\")\n",
    "print(\"Training Set Confusion Matrix: \\n\", b1cm_train)\n",
    "print(\"Test Set Confusion Matrix: \\n\", b1cm_test)\n",
    "                             \n",
    "                             \n",
    "#parameters 2: max_depth 6, n_estimators 23\n",
    "blightRF2 = RandomForestClassifier(max_depth=10,n_estimators=29).fit(x_TrainSubset, y_Train)\n",
    "b2cm_train = confusion_matrix(y_Train, blightRF2.predict(x_TrainSubset))\n",
    "b2cm_test = confusion_matrix(y_Test, blightRF2.predict(x_TestSubset))\n",
    "print(\"\\n Model 2:\")\n",
    "print(\"Training Set Confusion Matrix:\\n\", b2cm_train)\n",
    "print(\"Test Set Confusion Matrix:\\n\", b2cm_test)                             "
   ]
  },
  {
   "cell_type": "markdown",
   "metadata": {},
   "source": [
    "Finally, I try out the SHAP library to get the significance of all the features I have tried:"
   ]
  },
  {
   "cell_type": "code",
   "execution_count": 4,
   "metadata": {},
   "outputs": [
    {
     "data": {
      "text/plain": [
       "RandomForestClassifier(bootstrap=True, class_weight=None, criterion='gini',\n",
       "                       max_depth=10, max_features='auto', max_leaf_nodes=None,\n",
       "                       min_impurity_decrease=0.0, min_impurity_split=None,\n",
       "                       min_samples_leaf=1, min_samples_split=2,\n",
       "                       min_weight_fraction_leaf=0.0, n_estimators=13,\n",
       "                       n_jobs=None, oob_score=False, random_state=None,\n",
       "                       verbose=0, warm_start=False)"
      ]
     },
     "execution_count": 4,
     "metadata": {},
     "output_type": "execute_result"
    },
    {
     "data": {
      "image/png": "[encoded data removed]",
      "text/plain": [
       "<Figure size 576x309.6 with 2 Axes>"
      ]
     },
     "metadata": {
      "needs_background": "light"
     },
     "output_type": "display_data"
    }
   ],
   "source": [
    "import shap \n",
    "\n",
    "featureList = [\"late_fee\",\"discount_amount\",\"judgment_amount\",\"violation_code_levels\",\"disposition_codes\",\"agency_codes\",\"time_diff\"]\n",
    "\n",
    "x_TrainSubset = x_Train.loc[:,featureList]\n",
    "x_TestSubset = x_Test.loc[:,featureList]\n",
    "\n",
    "\n",
    "#Final Model 1:\n",
    "rf = RandomForestClassifier(n_estimators=13, max_depth=10)\n",
    "rf.fit(x_TrainSubset, y_Train)\n",
    "\n",
    "exp = shap.TreeExplainer(rf, x_TrainSubset)\n",
    "shap_values = exp.shap_values(x_TestSubset)\n",
    "\n",
    "shap.summary_plot(shap_values[1], x_TestSubset)\n",
    "\n"
   ]
  },
  {
   "cell_type": "markdown",
   "metadata": {},
   "source": [
    "This diagram confirms what other students found in the course: *late_fee, judgement_amount, and discount_amount* all had \n",
    "the biggest impact on model performance. Other features contributed less. \n",
    "\n",
    "Because of the sensetivity of RFs to bootstraping of data and metric, I won't pursue this further.\n",
    "\n",
    "**My Conclusion:** Trying out my other features of interest had minimal impact on accuracy. This was confirmed by seeing discussions about what other students tried, on the Course Web Forums.\n",
    "\n",
    "I can't draw any conclusions for AUC, as it varys significantly from the course scoring algorithm, and on the subset of data that is provided to calculate it."
   ]
  },
  {
   "cell_type": "markdown",
   "metadata": {},
   "source": [
    "**END**"
   ]
  }
 ],
 "metadata": {
  "coursera": {
   "course_slug": "python-machine-learning",
   "graded_item_id": "nNS8l",
   "launcher_item_id": "yWWk7",
   "part_id": "w8BSS"
  },
  "kernelspec": {
   "display_name": "Python 3",
   "language": "python",
   "name": "python3"
  },
  "language_info": {
   "codemirror_mode": {
    "name": "ipython",
    "version": 3
   },
   "file_extension": ".py",
   "mimetype": "text/x-python",
   "name": "python",
   "nbconvert_exporter": "python",
   "pygments_lexer": "ipython3",
   "version": "3.7.2"
  }
 },
 "nbformat": 4,
 "nbformat_minor": 2
}
